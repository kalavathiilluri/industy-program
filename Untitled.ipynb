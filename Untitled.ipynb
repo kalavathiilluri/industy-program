{
 "cells": [
  {
   "cell_type": "code",
   "execution_count": 6,
   "id": "9c8bb5ef-343f-4db5-9ad8-19e6a1b06966",
   "metadata": {},
   "outputs": [
    {
     "name": "stdout",
     "output_type": "stream",
     "text": [
      "503 509 521 523 541 547 557 563 569 571 577 587 593 599 "
     ]
    }
   ],
   "source": [
    "for n in range(500,601):\n",
    "    rt = int(n ** 0.5)\n",
    "    for i in range(2,rt + 1):\n",
    "        if n%i == 0:\n",
    "            break\n",
    "    else:\n",
    "        print(n,end= ' ')"
   ]
  },
  {
   "cell_type": "code",
   "execution_count": null,
   "id": "f2efa193-67e9-4ae0-a3ea-1b72328895df",
   "metadata": {},
   "outputs": [],
   "source": []
  }
 ],
 "metadata": {
  "kernelspec": {
   "display_name": "Python 3 (ipykernel)",
   "language": "python",
   "name": "python3"
  },
  "language_info": {
   "codemirror_mode": {
    "name": "ipython",
    "version": 3
   },
   "file_extension": ".py",
   "mimetype": "text/x-python",
   "name": "python",
   "nbconvert_exporter": "python",
   "pygments_lexer": "ipython3",
   "version": "3.9.7"
  }
 },
 "nbformat": 4,
 "nbformat_minor": 5
}
